{
  "nbformat": 4,
  "nbformat_minor": 0,
  "metadata": {
    "colab": {
      "name": "Classification_VGG16.ipynb",
      "provenance": [],
      "authorship_tag": "ABX9TyPFzQhUcyklxFjvf+3H+8zj",
      "include_colab_link": true
    },
    "kernelspec": {
      "name": "python3",
      "display_name": "Python 3"
    },
    "language_info": {
      "name": "python"
    }
  },
  "cells": [
    {
      "cell_type": "markdown",
      "metadata": {
        "id": "view-in-github",
        "colab_type": "text"
      },
      "source": [
        "<a href=\"https://colab.research.google.com/github/naveenverse/TF_snippets/blob/main/Classification_VGG16.ipynb\" target=\"_parent\"><img src=\"https://colab.research.google.com/assets/colab-badge.svg\" alt=\"Open In Colab\"/></a>"
      ]
    },
    {
      "cell_type": "code",
      "metadata": {
        "id": "AR5KKhDzk2tP"
      },
      "source": [
        "from keras.applications.vgg16 import VGG16\n",
        "from keras.applications.vgg16 import preprocess_input,decode_predictions\n",
        "from keras.preprocessing.image import load_img,img_to_array"
      ],
      "execution_count": 3,
      "outputs": []
    },
    {
      "cell_type": "code",
      "metadata": {
        "id": "Wb11JBTZ7f9M"
      },
      "source": [
        "# load image from the input directory\n",
        "img = load_img('/content/behemoth.jpg',target_size=(224,224))\n",
        "# converting image pixels into numpy array\n",
        "img = img_to_array(img)\n",
        "# reshape img array for the model\n",
        "img = img.reshape((1,img.shape[0],img.shape[1],img.shape[2]))\n",
        "# prepare the img for VGG model\n",
        "img = preprocess_input(img)"
      ],
      "execution_count": 5,
      "outputs": []
    },
    {
      "cell_type": "code",
      "metadata": {
        "colab": {
          "base_uri": "https://localhost:8080/"
        },
        "id": "_E8855osN-qe",
        "outputId": "48538cc2-64fa-460d-fb9e-1a9623397641"
      },
      "source": [
        "model = VGG16()"
      ],
      "execution_count": 6,
      "outputs": [
        {
          "output_type": "stream",
          "name": "stdout",
          "text": [
            "Downloading data from https://storage.googleapis.com/tensorflow/keras-applications/vgg16/vgg16_weights_tf_dim_ordering_tf_kernels.h5\n",
            "553467904/553467096 [==============================] - 8s 0us/step\n",
            "553476096/553467096 [==============================] - 8s 0us/step\n"
          ]
        }
      ]
    },
    {
      "cell_type": "code",
      "metadata": {
        "id": "ZFlu-IL8OiEB"
      },
      "source": [
        "y_hat = model.predict(img)"
      ],
      "execution_count": 7,
      "outputs": []
    },
    {
      "cell_type": "code",
      "metadata": {
        "colab": {
          "base_uri": "https://localhost:8080/"
        },
        "id": "xaXPjueePYau",
        "outputId": "40f9c440-a62f-45a7-97d7-ee2ce9d3b82d"
      },
      "source": [
        "# convert the probabilities to class labels\n",
        "label = decode_predictions(y_hat)\n",
        "# retrieve the most likely result, e.g. highest probability\n",
        "label = label[0][0]\n",
        "# print the classification\n",
        "print('%s (%.2f%%)' % (label[1], label[2]*100))"
      ],
      "execution_count": 9,
      "outputs": [
        {
          "output_type": "stream",
          "name": "stdout",
          "text": [
            "Downloading data from https://storage.googleapis.com/download.tensorflow.org/data/imagenet_class_index.json\n",
            "40960/35363 [==================================] - 0s 0us/step\n",
            "49152/35363 [=========================================] - 0s 0us/step\n",
            "electric_guitar (85.29%)\n"
          ]
        }
      ]
    }
  ]
}